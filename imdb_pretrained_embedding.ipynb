{
  "nbformat": 4,
  "nbformat_minor": 0,
  "metadata": {
    "colab": {
      "name": "imdb-pretrained_embedding.ipynb",
      "provenance": [],
      "collapsed_sections": [],
      "authorship_tag": "ABX9TyPgmcs/rhxfnIQpTh1P7rXm",
      "include_colab_link": true
    },
    "kernelspec": {
      "name": "python3",
      "display_name": "Python 3"
    },
    "accelerator": "TPU"
  },
  "cells": [
    {
      "cell_type": "markdown",
      "metadata": {
        "id": "view-in-github",
        "colab_type": "text"
      },
      "source": [
        "<a href=\"https://colab.research.google.com/github/Chengheri/text-classification-rnn/blob/master/imdb_pretrained_embedding.ipynb\" target=\"_parent\"><img src=\"https://colab.research.google.com/assets/colab-badge.svg\" alt=\"Open In Colab\"/></a>"
      ]
    },
    {
      "cell_type": "markdown",
      "metadata": {
        "id": "VhiputWrGJg-",
        "colab_type": "text"
      },
      "source": [
        "### IMDB dataset: movie reviews from internet\n",
        "\n",
        "\n",
        "*   **25,000 train samples**\n",
        "\n",
        "> 12, 500 positive reviews\n",
        "\n",
        "> 12, 500 negative reviews\n",
        "\n",
        "*   **25,000 test samples**\n",
        "\n",
        "> 12, 500 positive reviews\n",
        "\n",
        "> 12, 500 negative *reviews*\n"
      ]
    },
    {
      "cell_type": "code",
      "metadata": {
        "id": "GnIYbV-Xm_Ux",
        "colab_type": "code",
        "outputId": "8b574a4a-f688-4475-9e78-43611aaa82f2",
        "colab": {
          "base_uri": "https://localhost:8080/",
          "height": 54
        }
      },
      "source": [
        "from google.colab import drive\n",
        "drive.mount('/content/drive')"
      ],
      "execution_count": 1,
      "outputs": [
        {
          "output_type": "stream",
          "text": [
            "Drive already mounted at /content/drive; to attempt to forcibly remount, call drive.mount(\"/content/drive\", force_remount=True).\n"
          ],
          "name": "stdout"
        }
      ]
    },
    {
      "cell_type": "markdown",
      "metadata": {
        "id": "nNqpf52_tCnY",
        "colab_type": "text"
      },
      "source": [
        "## Import Packages"
      ]
    },
    {
      "cell_type": "code",
      "metadata": {
        "id": "kQkahiEnnEjY",
        "colab_type": "code",
        "outputId": "fbf01570-3fb9-49d9-868e-c3be275d9d2a",
        "colab": {
          "base_uri": "https://localhost:8080/",
          "height": 80
        }
      },
      "source": [
        "import os\n",
        "from keras.preprocessing.text import Tokenizer\n",
        "from keras.preprocessing.sequence import pad_sequences\n",
        "import numpy as np\n",
        "import pickle\n",
        "from glob import glob\n",
        "\n",
        "from keras.models import Sequential\n",
        "from keras.layers import Flatten, Dense, Embedding\n",
        "\n",
        "import matplotlib.pyplot as plt"
      ],
      "execution_count": 2,
      "outputs": [
        {
          "output_type": "stream",
          "text": [
            "Using TensorFlow backend.\n"
          ],
          "name": "stderr"
        },
        {
          "output_type": "display_data",
          "data": {
            "text/html": [
              "<p style=\"color: red;\">\n",
              "The default version of TensorFlow in Colab will soon switch to TensorFlow 2.x.<br>\n",
              "We recommend you <a href=\"https://www.tensorflow.org/guide/migrate\" target=\"_blank\">upgrade</a> now \n",
              "or ensure your notebook will continue to use TensorFlow 1.x via the <code>%tensorflow_version 1.x</code> magic:\n",
              "<a href=\"https://colab.research.google.com/notebooks/tensorflow_version.ipynb\" target=\"_blank\">more info</a>.</p>\n"
            ],
            "text/plain": [
              "<IPython.core.display.HTML object>"
            ]
          },
          "metadata": {
            "tags": []
          }
        }
      ]
    },
    {
      "cell_type": "markdown",
      "metadata": {
        "id": "aTjnVCWot1oV",
        "colab_type": "text"
      },
      "source": [
        "## Preparing the data"
      ]
    },
    {
      "cell_type": "markdown",
      "metadata": {
        "id": "c-OVZanN02-b",
        "colab_type": "text"
      },
      "source": [
        "### Extracting text"
      ]
    },
    {
      "cell_type": "code",
      "metadata": {
        "id": "8LZtju_2cCFN",
        "colab_type": "code",
        "colab": {}
      },
      "source": [
        "def extract_text(data_type, label_type, verbose=1):\n",
        "    \"\"\"\n",
        "    Given the data_type(\"train\" or \"test\"), the label_type(\"neg\" or \"pos\"), extract\n",
        "    the raw text from each file and store them into 10 files. The reason of storing \n",
        "    by splitting into 10 files is that the extraction is too long. And if the processing fails,\n",
        "    we can continue later from where it fails.\n",
        "    \"\"\"\n",
        "\n",
        "    path = os.path.join(imdb_dir, data_type)\n",
        "    dir_name = os.path.join(path, label_type)\n",
        "    files = [file for file in os.listdir(dir_name) if file[-4:]=='.txt']\n",
        "    num_samples = len(files)\n",
        "    slice_idx = np.linspace(0, num_samples, 11)\n",
        "    for i in range(len(slice_idx)-1):\n",
        "        texts = []\n",
        "        for fname in files[int(slice_idx[int(i)]):int(slice_idx[int(i)+1])]:\n",
        "            with open(os.path.join(dir_name, fname)) as f:\n",
        "                texts.append(f.read())\n",
        "\n",
        "        filename = path+'/'+label_type+str(i)+'.p'\n",
        "        pickle.dump(texts, open(filename, \"wb\")) \n",
        "        if verbose:\n",
        "            print(\"%s is saved\" % filename)\n",
        "    \n",
        "    print(\"*\"*50)\n",
        "    print(\"Extraction is finished sucessfully.\")\n",
        "    print(\"*\"*50)"
      ],
      "execution_count": 0,
      "outputs": []
    },
    {
      "cell_type": "code",
      "metadata": {
        "id": "DIKFu8_-XtJt",
        "colab_type": "code",
        "colab": {}
      },
      "source": [
        "imdb_dir = '/content/drive/My Drive/data/aclImdb'\n",
        "#extract_text('train', 'neg', verbose=1)\n",
        "#extract_text('train', 'pos')"
      ],
      "execution_count": 0,
      "outputs": []
    },
    {
      "cell_type": "markdown",
      "metadata": {
        "id": "pmJqsTQd1ADN",
        "colab_type": "text"
      },
      "source": [
        "### Loading data"
      ]
    },
    {
      "cell_type": "code",
      "metadata": {
        "id": "TDZiYVT01Cj4",
        "colab_type": "code",
        "colab": {}
      },
      "source": [
        "def load_text(data_type, label_type):\n",
        "    path = os.path.join(imdb_dir, data_type)\n",
        "    texts = []\n",
        "    for file in glob(path+'/'+label_type+'*.p'):\n",
        "        texts += pickle.load(open(file, \"rb\"))\n",
        "\n",
        "    return texts"
      ],
      "execution_count": 0,
      "outputs": []
    },
    {
      "cell_type": "code",
      "metadata": {
        "id": "yEefLk78369p",
        "colab_type": "code",
        "colab": {}
      },
      "source": [
        "train_neg = load_text('train', 'neg')\n",
        "train_pos = load_text('train', 'pos')\n",
        "train = train_neg + train_pos"
      ],
      "execution_count": 0,
      "outputs": []
    },
    {
      "cell_type": "code",
      "metadata": {
        "id": "5-2fEdWK_Afw",
        "colab_type": "code",
        "colab": {}
      },
      "source": [
        "labels_neg = [0] * 12500\n",
        "labels_pos = [1] * 12500\n",
        "labels = labels_neg + labels_pos"
      ],
      "execution_count": 0,
      "outputs": []
    },
    {
      "cell_type": "markdown",
      "metadata": {
        "id": "u3JLubIOt4kv",
        "colab_type": "text"
      },
      "source": [
        "## Preprocessing"
      ]
    },
    {
      "cell_type": "markdown",
      "metadata": {
        "id": "Q64B1qQD9lt0",
        "colab_type": "text"
      },
      "source": [
        "### Tokenization"
      ]
    },
    {
      "cell_type": "code",
      "metadata": {
        "id": "vAdM5mkm_nmt",
        "colab_type": "code",
        "colab": {}
      },
      "source": [
        "def preprocess_texts(texts):\n",
        "    \n",
        "    tokenizer = Tokenizer(num_words=max_words)\n",
        "    tokenizer.fit_on_texts(texts)\n",
        "    sequences = tokenizer.texts_to_sequences(texts) # turn into integer indices\n",
        "    word_index = tokenizer.word_index\n",
        "    print('Found %s unique tokens.' % len(word_index))\n",
        "\n",
        "    # turn into 2D integer tensor of shape(samples, maxlen)\n",
        "    data = pad_sequences(sequences, maxlen=maxlen) \n",
        "    print('Shape of data tensor:', data.shape)\n",
        "\n",
        "    return data"
      ],
      "execution_count": 0,
      "outputs": []
    },
    {
      "cell_type": "code",
      "metadata": {
        "id": "uBOZhmUmARd8",
        "colab_type": "code",
        "colab": {}
      },
      "source": [
        "def preprocess_labels(labels):\n",
        "    \n",
        "    labels = np.asarray(labels)\n",
        "    print('Shape of label tensor:', labels.shape)\n",
        "    \n",
        "    return labels"
      ],
      "execution_count": 0,
      "outputs": []
    },
    {
      "cell_type": "code",
      "metadata": {
        "id": "RaBe8qfwt7L_",
        "colab_type": "code",
        "colab": {
          "base_uri": "https://localhost:8080/",
          "height": 68
        },
        "outputId": "7c0cd90f-7729-494b-d298-3c430821216c"
      },
      "source": [
        "#################### Tokenization #####################\n",
        "maxlen = 100 # cuts off reviews after 100 words\n",
        "max_words = 10000 # number of most frequent words considered as features\n",
        "\n",
        "data_train = preprocess_texts(train)\n",
        "labels_train = preprocess_labels(labels)"
      ],
      "execution_count": 38,
      "outputs": [
        {
          "output_type": "stream",
          "text": [
            "Found 88582 unique tokens.\n",
            "Shape of data tensor: (25000, 100)\n",
            "Shape of label tensor: (25000,)\n"
          ],
          "name": "stdout"
        }
      ]
    },
    {
      "cell_type": "markdown",
      "metadata": {
        "id": "GNLy3AtG9qg0",
        "colab_type": "text"
      },
      "source": [
        "### Train-validation split"
      ]
    },
    {
      "cell_type": "code",
      "metadata": {
        "id": "d7kqqExS9s3P",
        "colab_type": "code",
        "colab": {}
      },
      "source": [
        "training_samples = 200 \n",
        "validation_samples = 10000\n",
        "\n",
        "#################### train-validation split ####################\n",
        "indices = np.arange(data.shape[0])\n",
        "np.random.shuffle(indices) # shuffle data before splitting into training set and validation set\n",
        "data_train = data[indices]\n",
        "labels_train = labels[indices]\n",
        "\n",
        "x_train = data[:training_samples]\n",
        "y_train = labels[:training_samples]\n",
        "x_val = data[training_samples:training_samples+validation_samples]\n",
        "y_val = labels[training_samples:training_samples+validation_samples]"
      ],
      "execution_count": 0,
      "outputs": []
    },
    {
      "cell_type": "markdown",
      "metadata": {
        "id": "ZZhA-ysW94yr",
        "colab_type": "text"
      },
      "source": [
        "### Word Embedding with pretrained embedding"
      ]
    },
    {
      "cell_type": "code",
      "metadata": {
        "id": "7Dd-hT_G9_Ed",
        "colab_type": "code",
        "colab": {
          "base_uri": "https://localhost:8080/",
          "height": 34
        },
        "outputId": "aaccaf26-ba86-43b0-a580-a0e3be2f6725"
      },
      "source": [
        "glove_dir = '/content/drive/My Drive/data/glove'\n",
        "\n",
        "embeddings_index = {}\n",
        "f = open(os.path.join(glove_dir, 'glove.6B.100d.txt')) # 100-dimensional embedding vectors for 400,000 words\n",
        "for line in f:\n",
        "    values = line.split()\n",
        "    word = values[0]\n",
        "    coefs = np.asarray(values[1:], dtype='float32')\n",
        "    embeddings_index[word] = coefs\n",
        "f.close()\n",
        "\n",
        "print('Found %s word vectors.' % len(embeddings_index))"
      ],
      "execution_count": 41,
      "outputs": [
        {
          "output_type": "stream",
          "text": [
            "Found 400000 word vectors.\n"
          ],
          "name": "stdout"
        }
      ]
    },
    {
      "cell_type": "code",
      "metadata": {
        "id": "qxiNqCmUBfy1",
        "colab_type": "code",
        "colab": {}
      },
      "source": [
        "embedding_dim = 100\n",
        "\n",
        "embedding_matrix = np.zeros((max_words, embedding_dim))\n",
        "for word, i in word_index.items():\n",
        "    if i < max_words:\n",
        "        embedding_vector = embeddings_index.get(word)\n",
        "        if embedding_vector is not None:\n",
        "            embedding_matrix[i] = embedding_vector"
      ],
      "execution_count": 0,
      "outputs": []
    },
    {
      "cell_type": "markdown",
      "metadata": {
        "id": "ZXZCCRg4CUyU",
        "colab_type": "text"
      },
      "source": [
        "## Defining a model - using pretrained embedding"
      ]
    },
    {
      "cell_type": "code",
      "metadata": {
        "id": "mCR-KNjFCWlA",
        "colab_type": "code",
        "colab": {}
      },
      "source": [
        " def get_model(): \n",
        "\n",
        "    model = Sequential()\n",
        "    model.add(Embedding(max_words, embedding_dim, input_length=maxlen))\n",
        "    model.add(Flatten())\n",
        "    model.add(Dense(32, activation='relu'))\n",
        "    model.add(Dense(1, activation='sigmoid'))\n",
        "    model.summary()\n",
        "\n",
        "    ############# Load GloVe embedding #################\n",
        "    model.layers[0].set_weights([embedding_matrix])\n",
        "    model.layers[0].trainable = False\n",
        "\n",
        "    return model\n",
        "    "
      ],
      "execution_count": 0,
      "outputs": []
    },
    {
      "cell_type": "markdown",
      "metadata": {
        "id": "njV8S2hJD-Zq",
        "colab_type": "text"
      },
      "source": [
        "## Training the model"
      ]
    },
    {
      "cell_type": "code",
      "metadata": {
        "id": "edSTudmvEGaN",
        "colab_type": "code",
        "colab": {
          "base_uri": "https://localhost:8080/",
          "height": 718
        },
        "outputId": "3616e923-ad20-4d4d-e938-521446fed04c"
      },
      "source": [
        "model.compile(optimizer='rmsprop', loss='binary_crossentropy', metrics=['acc'])\n",
        "history = model.fit(x_train, y_train,\n",
        "                    epochs=10,\n",
        "                    batch_size=32,\n",
        "                    validation_data=(x_val, y_val))"
      ],
      "execution_count": 45,
      "outputs": [
        {
          "output_type": "stream",
          "text": [
            "WARNING:tensorflow:From /usr/local/lib/python3.6/dist-packages/keras/optimizers.py:793: The name tf.train.Optimizer is deprecated. Please use tf.compat.v1.train.Optimizer instead.\n",
            "\n",
            "WARNING:tensorflow:From /usr/local/lib/python3.6/dist-packages/keras/backend/tensorflow_backend.py:3657: The name tf.log is deprecated. Please use tf.math.log instead.\n",
            "\n",
            "WARNING:tensorflow:From /usr/local/lib/python3.6/dist-packages/tensorflow_core/python/ops/nn_impl.py:183: where (from tensorflow.python.ops.array_ops) is deprecated and will be removed in a future version.\n",
            "Instructions for updating:\n",
            "Use tf.where in 2.0, which has the same broadcast rule as np.where\n",
            "WARNING:tensorflow:From /usr/local/lib/python3.6/dist-packages/keras/backend/tensorflow_backend.py:1033: The name tf.assign_add is deprecated. Please use tf.compat.v1.assign_add instead.\n",
            "\n",
            "WARNING:tensorflow:From /usr/local/lib/python3.6/dist-packages/keras/backend/tensorflow_backend.py:1020: The name tf.assign is deprecated. Please use tf.compat.v1.assign instead.\n",
            "\n",
            "Train on 200 samples, validate on 10000 samples\n",
            "Epoch 1/10\n",
            "200/200 [==============================] - 1s 5ms/step - loss: 2.9912 - acc: 0.4150 - val_loss: 0.6933 - val_acc: 0.4998\n",
            "Epoch 2/10\n",
            "200/200 [==============================] - 1s 3ms/step - loss: 0.7220 - acc: 0.5800 - val_loss: 0.7078 - val_acc: 0.4977\n",
            "Epoch 3/10\n",
            "200/200 [==============================] - 1s 3ms/step - loss: 0.6091 - acc: 0.6550 - val_loss: 0.7252 - val_acc: 0.5068\n",
            "Epoch 4/10\n",
            "200/200 [==============================] - 1s 3ms/step - loss: 0.4573 - acc: 0.8100 - val_loss: 0.7594 - val_acc: 0.5009\n",
            "Epoch 5/10\n",
            "200/200 [==============================] - 1s 3ms/step - loss: 0.3296 - acc: 0.9050 - val_loss: 1.0322 - val_acc: 0.5077\n",
            "Epoch 6/10\n",
            "200/200 [==============================] - 1s 3ms/step - loss: 0.3724 - acc: 0.8200 - val_loss: 0.7546 - val_acc: 0.5311\n",
            "Epoch 7/10\n",
            "200/200 [==============================] - 1s 3ms/step - loss: 0.1945 - acc: 0.9600 - val_loss: 0.8670 - val_acc: 0.5403\n",
            "Epoch 8/10\n",
            "200/200 [==============================] - 1s 3ms/step - loss: 0.1536 - acc: 1.0000 - val_loss: 0.7186 - val_acc: 0.5704\n",
            "Epoch 9/10\n",
            "200/200 [==============================] - 1s 3ms/step - loss: 0.0905 - acc: 1.0000 - val_loss: 0.8457 - val_acc: 0.5322\n",
            "Epoch 10/10\n",
            "200/200 [==============================] - 1s 3ms/step - loss: 0.0605 - acc: 1.0000 - val_loss: 0.7200 - val_acc: 0.5893\n"
          ],
          "name": "stdout"
        }
      ]
    },
    {
      "cell_type": "markdown",
      "metadata": {
        "id": "QRRfRYMaEPr1",
        "colab_type": "text"
      },
      "source": [
        "## Saving the model"
      ]
    },
    {
      "cell_type": "code",
      "metadata": {
        "id": "J96JnUIQC7c2",
        "colab_type": "code",
        "colab": {}
      },
      "source": [
        "models_dir = '/content/drive/My Drive/data/models/'\n",
        "os.makedirs(models_dir, exist_ok=True)\n",
        "model.save_weights(models_dir+'pre_trained_glove_model.h5')"
      ],
      "execution_count": 0,
      "outputs": []
    },
    {
      "cell_type": "markdown",
      "metadata": {
        "id": "DNWIeHfhEWor",
        "colab_type": "text"
      },
      "source": [
        "## Performance monitoring"
      ]
    },
    {
      "cell_type": "code",
      "metadata": {
        "id": "BP686d39Eooe",
        "colab_type": "code",
        "colab": {
          "base_uri": "https://localhost:8080/",
          "height": 545
        },
        "outputId": "fbe34d94-7ad6-4d61-fec3-3a077f83035f"
      },
      "source": [
        "acc = history.history['acc']\n",
        "val_acc = history.history['val_acc']\n",
        "loss = history.history['loss']\n",
        "val_loss = history.history['val_loss']\n",
        "\n",
        "epochs = range(1, len(acc)+1)\n",
        "\n",
        "plt.plot(epochs, acc, 'bo', label='Training acc')\n",
        "plt.plot(epochs, val_acc, 'b', label='Validation acc')\n",
        "plt.title('Training and validation accuracy')\n",
        "plt.legend()\n",
        "\n",
        "plt.figure()\n",
        "plt.plot(epochs, loss, 'bo', label='Training loss')\n",
        "plt.plot(epochs, val_loss, 'b', label='Validation loss')\n",
        "plt.title('Training and validation loss')\n",
        "plt.legend()\n",
        "\n",
        "plt.show()\n"
      ],
      "execution_count": 46,
      "outputs": [
        {
          "output_type": "display_data",
          "data": {
            "image/png": "[encoded data removed]",
            "text/plain": [
              "<Figure size 432x288 with 1 Axes>"
            ]
          },
          "metadata": {
            "tags": []
          }
        },
        {
          "output_type": "display_data",
          "data": {
            "image/png": "[encoded data removed]",
            "text/plain": [
              "<Figure size 432x288 with 1 Axes>"
            ]
          },
          "metadata": {
            "tags": []
          }
        }
      ]
    },
    {
      "cell_type": "markdown",
      "metadata": {
        "id": "PfnHKEvpGRgR",
        "colab_type": "text"
      },
      "source": [
        "## Model evaluation"
      ]
    },
    {
      "cell_type": "code",
      "metadata": {
        "id": "lv_TdN-iHdyq",
        "colab_type": "code",
        "colab": {
          "base_uri": "https://localhost:8080/",
          "height": 119
        },
        "outputId": "e32856b5-1a38-43b3-d88b-56fd40b2031c"
      },
      "source": [
        "# extracting text\n",
        "extract_text('test', 'neg')\n",
        "extract_text('test', 'pos')"
      ],
      "execution_count": 56,
      "outputs": [
        {
          "output_type": "stream",
          "text": [
            "**************************************************\n",
            "Extraction is finished sucessfully.\n",
            "**************************************************\n",
            "**************************************************\n",
            "Extraction is finished sucessfully.\n",
            "**************************************************\n"
          ],
          "name": "stdout"
        }
      ]
    },
    {
      "cell_type": "code",
      "metadata": {
        "id": "dvnGvdQMH5X5",
        "colab_type": "code",
        "colab": {}
      },
      "source": [
        "# merging\n",
        "test_neg = load_text('test', 'neg')\n",
        "test_pos = load_text('test', 'pos')\n",
        "test = test_neg + test_pos\n",
        "\n",
        "labels_neg = [0] * 12500\n",
        "labels_pos = [1] * 12500\n",
        "labels = labels_neg + labels_pos"
      ],
      "execution_count": 0,
      "outputs": []
    },
    {
      "cell_type": "code",
      "metadata": {
        "id": "-U7kBMOmJESy",
        "colab_type": "code",
        "colab": {
          "base_uri": "https://localhost:8080/",
          "height": 68
        },
        "outputId": "e8b3b769-6bb4-4fec-b4af-947e70b6753e"
      },
      "source": [
        "# preprocessing (texts to tokens (tokenize) --> texts/tokens to sequences --> sequences to tensors (padding))\n",
        "data_test = preprocess_texts(test)\n",
        "labels_test = preprocess_labels(labels)"
      ],
      "execution_count": 59,
      "outputs": [
        {
          "output_type": "stream",
          "text": [
            "Found 87393 unique tokens.\n",
            "Shape of data tensor: (25000, 100)\n",
            "Shape of label tensor: (25000,)\n"
          ],
          "name": "stdout"
        }
      ]
    },
    {
      "cell_type": "code",
      "metadata": {
        "id": "EVNUa6EEHq97",
        "colab_type": "code",
        "colab": {
          "base_uri": "https://localhost:8080/",
          "height": 340
        },
        "outputId": "a1679ba6-3501-42b6-8429-be5e3b986358"
      },
      "source": [
        "model = get_model()\n",
        "model.load_weights(models_dir+'pre_trained_glove_model.h5')\n",
        "model.compile(optimizer='rmsprop', loss='binary_crossentropy', metrics=['acc'])\n",
        "loss, acc = model.evaluate(data_test, labels_test)\n",
        "print(\"Test loss: %s\" % loss)\n",
        "print(\"Test accuracy: %s\" % acc)"
      ],
      "execution_count": 74,
      "outputs": [
        {
          "output_type": "stream",
          "text": [
            "Model: \"sequential_11\"\n",
            "_________________________________________________________________\n",
            "Layer (type)                 Output Shape              Param #   \n",
            "=================================================================\n",
            "embedding_10 (Embedding)     (None, 100, 100)          1000000   \n",
            "_________________________________________________________________\n",
            "flatten_10 (Flatten)         (None, 10000)             0         \n",
            "_________________________________________________________________\n",
            "dense_19 (Dense)             (None, 32)                320032    \n",
            "_________________________________________________________________\n",
            "dense_20 (Dense)             (None, 1)                 33        \n",
            "=================================================================\n",
            "Total params: 1,320,065\n",
            "Trainable params: 1,320,065\n",
            "Non-trainable params: 0\n",
            "_________________________________________________________________\n",
            "25000/25000 [==============================] - 1s 58us/step\n",
            "Test loss: 0.7924347104072571\n",
            "Test accuracy: 0.5228\n"
          ],
          "name": "stdout"
        }
      ]
    }
  ]
}